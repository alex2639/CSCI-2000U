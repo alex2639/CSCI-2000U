{
 "cells": [
  {
   "cell_type": "markdown",
   "metadata": {},
   "source": [
    "# WhiteWash\n",
    "\n",
    "## Using Python's List\n",
    "First version using Python's list. Note that because of _aliasing_, the general way of copying a 2D list correctly is to use `deepcopy` from `copy` module, otherwise you will change the original color map rather than the new one:"
   ]
  },
  {
   "cell_type": "code",
   "execution_count": 1,
   "metadata": {
    "collapsed": false
   },
   "outputs": [
    {
     "name": "stdout",
     "output_type": "stream",
     "text": [
      "before: [[0, 0, 0], [0.1, 0.1, 0.1], [0.5, 0.5, 0.5], [1, 1, 1]]\n",
      "after:  [[0.5, 0.5, 0.5], [0.55, 0.55, 0.55], [0.75, 0.75, 0.75], [1.0, 1.0, 1.0]]\n"
     ]
    }
   ],
   "source": [
    "import copy\n",
    "\n",
    "def WhiteWash(ColorMap):\n",
    "    \"\"\"white wash color map as a Pyhton's list\"\"\"\n",
    "    r = copy.deepcopy(ColorMap)\n",
    "    for c in r:\n",
    "        for i in range(3):\n",
    "            c[i] += 1.0\n",
    "            c[i] *= 0.5\n",
    "    return r\n",
    "\n",
    "# testing our function\n",
    "cm = [[0, 0, 0], [0.1, 0.1, 0.1], [0.5, 0.5, 0.5], [1, 1, 1]]\n",
    "print(\"before:\", cm)\n",
    "print(\"after: \", WhiteWash(cm))"
   ]
  },
  {
   "cell_type": "markdown",
   "metadata": {},
   "source": [
    "## Using `NumPy`'s Arrays"
   ]
  },
  {
   "cell_type": "code",
   "execution_count": 2,
   "metadata": {
    "collapsed": false
   },
   "outputs": [],
   "source": [
    "import numpy as np\n",
    "\n",
    "def NpWhiteWash(ColorMap):\n",
    "    \"\"\"white wash color map as a numpy's array\"\"\"\n",
    "    r =  np.ones_like(ColorMap)\n",
    "    r += ColorMap\n",
    "    r *= 0.5\n",
    "    return r"
   ]
  },
  {
   "cell_type": "code",
   "execution_count": 3,
   "metadata": {
    "collapsed": false
   },
   "outputs": [
    {
     "name": "stdout",
     "output_type": "stream",
     "text": [
      "before white wash:\n",
      "[[ 0.82977558  0.72058037  0.17773973]\n",
      " [ 0.13493529  0.12950474  0.96475657]\n",
      " [ 0.50937435  0.3089535   0.21655294]\n",
      " [ 0.65685957  0.87916125  0.99851318]\n",
      " [ 0.07723225  0.48620249  0.42696668]\n",
      " [ 0.44156967  0.00612573  0.79058116]\n",
      " [ 0.64160115  0.43803504  0.09439299]\n",
      " [ 0.486109    0.27711707  0.63857267]\n",
      " [ 0.38460828  0.53043106  0.58268727]\n",
      " [ 0.73586202  0.73172075  0.48056991]]\n",
      "\n",
      "after white wash:\n",
      "[[ 0.91488779  0.86029019  0.58886986]\n",
      " [ 0.56746764  0.56475237  0.98237828]\n",
      " [ 0.75468717  0.65447675  0.60827647]\n",
      " [ 0.82842979  0.93958063  0.99925659]\n",
      " [ 0.53861613  0.74310124  0.71348334]\n",
      " [ 0.72078484  0.50306287  0.89529058]\n",
      " [ 0.82080057  0.71901752  0.5471965 ]\n",
      " [ 0.7430545   0.63855853  0.81928633]\n",
      " [ 0.69230414  0.76521553  0.79134363]\n",
      " [ 0.86793101  0.86586037  0.74028496]]\n",
      "\n",
      "after white wash with numpy:\n",
      "[[ 0.91488779  0.86029019  0.58886986]\n",
      " [ 0.56746764  0.56475237  0.98237828]\n",
      " [ 0.75468717  0.65447675  0.60827647]\n",
      " [ 0.82842979  0.93958063  0.99925659]\n",
      " [ 0.53861613  0.74310124  0.71348334]\n",
      " [ 0.72078484  0.50306287  0.89529058]\n",
      " [ 0.82080057  0.71901752  0.5471965 ]\n",
      " [ 0.7430545   0.63855853  0.81928633]\n",
      " [ 0.69230414  0.76521553  0.79134363]\n",
      " [ 0.86793101  0.86586037  0.74028496]]\n"
     ]
    }
   ],
   "source": [
    "cm = np.random.random(30).reshape((10, 3))\n",
    "\n",
    "# both functions should return the same result\n",
    "assert (WhiteWash(cm) == NpWhiteWash(cm)).all()\n",
    "\n",
    "print(\"before white wash:\")\n",
    "print(cm)\n",
    "print(\"\\nafter white wash:\")\n",
    "print(WhiteWash(cm))\n",
    "print(\"\\nafter white wash with numpy:\")\n",
    "print(NpWhiteWash(cm))"
   ]
  },
  {
   "cell_type": "code",
   "execution_count": null,
   "metadata": {
    "collapsed": true
   },
   "outputs": [],
   "source": []
  }
 ],
 "metadata": {
  "kernelspec": {
   "display_name": "Python 3",
   "language": "python",
   "name": "python3"
  },
  "language_info": {
   "codemirror_mode": {
    "name": "ipython",
    "version": 3
   },
   "file_extension": ".py",
   "mimetype": "text/x-python",
   "name": "python",
   "nbconvert_exporter": "python",
   "pygments_lexer": "ipython3",
   "version": "3.4.3"
  }
 },
 "nbformat": 4,
 "nbformat_minor": 0
}
