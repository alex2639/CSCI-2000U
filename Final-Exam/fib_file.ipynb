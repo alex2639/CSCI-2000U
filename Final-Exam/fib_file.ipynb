{
 "cells": [
  {
   "cell_type": "code",
   "execution_count": 8,
   "metadata": {
    "collapsed": false
   },
   "outputs": [
    {
     "ename": "SyntaxError",
     "evalue": "invalid syntax (<ipython-input-8-6a54429337bb>, line 25)",
     "output_type": "error",
     "traceback": [
      "\u001b[1;36m  File \u001b[1;32m\"<ipython-input-8-6a54429337bb>\"\u001b[1;36m, line \u001b[1;32m25\u001b[0m\n\u001b[1;33m    writer.write(str(x) + \"\\t\" + str(fib_file(x,fname))\u001b[0m\n\u001b[1;37m         ^\u001b[0m\n\u001b[1;31mSyntaxError\u001b[0m\u001b[1;31m:\u001b[0m invalid syntax\n"
     ]
    }
   ],
   "source": [
    "def fib_file(n, fname):\n",
    "    if n==0:\n",
    "        return 0\n",
    "    if n==1:\n",
    "        return 1\n",
    "    else:\n",
    "        return fib_file(n-1,fname)+fib_file(n-2,fname)\n",
    "\n",
    "#input a number greater than 0\n",
    "#the fibonacci sequence will be outputted to a separate file\n",
    "\n",
    "#num=input() \n",
    "#tried to input a number\n",
    "\n",
    "num=9\n",
    "writer=open('fib_'+str(num)+'.txt','w')\n",
    "fname='fib_'+str(num)+'.txt'\n",
    "if num<0:\n",
    "    print(\"Number must be positive\")\n",
    "else:\n",
    "    print(\"n\\t F_n\")\n",
    "    writer.write(\"n\\t F_n\")\n",
    "    for x in range (0,num+1):\n",
    "        print(str(x) + \"\\t\" + str(fib_file(x,fname))\n",
    "        writer.write(str(x) + \"\\t\" + str(fib_file(x,fname))"
   ]
  },
  {
   "cell_type": "code",
   "execution_count": null,
   "metadata": {
    "collapsed": true
   },
   "outputs": [],
   "source": []
  }
 ],
 "metadata": {
  "kernelspec": {
   "display_name": "Python 3",
   "language": "python",
   "name": "python3"
  },
  "language_info": {
   "codemirror_mode": {
    "name": "ipython",
    "version": 3
   },
   "file_extension": ".py",
   "mimetype": "text/x-python",
   "name": "python",
   "nbconvert_exporter": "python",
   "pygments_lexer": "ipython3",
   "version": "3.4.3"
  }
 },
 "nbformat": 4,
 "nbformat_minor": 0
}
