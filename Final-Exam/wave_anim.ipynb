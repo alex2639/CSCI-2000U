{
 "cells": [
  {
   "cell_type": "code",
   "execution_count": 1,
   "metadata": {
    "collapsed": true
   },
   "outputs": [],
   "source": [
    "%matplotlib inline"
   ]
  },
  {
   "cell_type": "code",
   "execution_count": null,
   "metadata": {
    "collapsed": false
   },
   "outputs": [],
   "source": [
    "import numpy as np\n",
    "import matplotlib.pyplot as plt\n",
    "import matplotlib.animation as animation\n",
    "from JSAnimation.IPython_display import display_animation\n",
    "\n",
    "fig = plt.figure()\n",
    "ax = plt.axes(xlim=(-6, 6), ylim=(-2, 2))\n",
    "line, = ax.plot([], [], lw=2)\n",
    "\n",
    "def init():\n",
    "    line.set_data([], [])\n",
    "    return line,"
   ]
  },
  {
   "cell_type": "code",
   "execution_count": null,
   "metadata": {
    "collapsed": true
   },
   "outputs": [],
   "source": [
    "def animate(i):\n",
    "    x = np.linspace(-6, 6, 1000)\n",
    "    y = 1.75*np.sin((x - 20 * i))\n",
    "    line.set_data(x, y)\n",
    "    return line,\n",
    "\n",
    "anim = animation.FuncAnimation(fig, animate, init_func=init,\n",
    "                               frames=200, interval=20, blit=True)\n",
    "display_animation(anim)"
   ]
  },
  {
   "cell_type": "code",
   "execution_count": null,
   "metadata": {
    "collapsed": true
   },
   "outputs": [],
   "source": [
    "def animate2(i):\n",
    "    x = np.linspace(-6, 6, 1000)\n",
    "    y = 1.8*np.e(-2*(x - 12 * i + 6)**2)\n",
    "    line.set_data(x, y)\n",
    "    return line,\n",
    "\n",
    "anim = animation.FuncAnimation(fig, animate2, init_func=init,\n",
    "                               frames=200, interval=20, blit=True)\n",
    "display_animation(anim)"
   ]
  }
 ],
 "metadata": {
  "kernelspec": {
   "display_name": "Python 3",
   "language": "python",
   "name": "python3"
  },
  "language_info": {
   "codemirror_mode": {
    "name": "ipython",
    "version": 3
   },
   "file_extension": ".py",
   "mimetype": "text/x-python",
   "name": "python",
   "nbconvert_exporter": "python",
   "pygments_lexer": "ipython3",
   "version": "3.4.3"
  }
 },
 "nbformat": 4,
 "nbformat_minor": 0
}
