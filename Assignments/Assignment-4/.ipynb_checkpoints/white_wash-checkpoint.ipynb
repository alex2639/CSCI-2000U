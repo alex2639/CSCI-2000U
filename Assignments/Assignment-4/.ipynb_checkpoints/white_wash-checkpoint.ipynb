{
 "cells": [
  {
   "cell_type": "code",
   "execution_count": 15,
   "metadata": {
    "collapsed": false
   },
   "outputs": [
    {
     "name": "stdout",
     "output_type": "stream",
     "text": [
      "Original matrix\n",
      "[[0 1 1]\n",
      " [1 1 0]\n",
      " [0 0 0]\n",
      " [0 1 0]\n",
      " [0 0 0]\n",
      " [1 0 0]\n",
      " [1 0 1]\n",
      " [0 0 0]\n",
      " [1 1 1]]\n",
      "New matrix\n",
      "[[ 0.5  1.   1. ]\n",
      " [ 1.   1.   0.5]\n",
      " [ 0.5  0.5  0.5]\n",
      " [ 0.5  1.   0.5]\n",
      " [ 0.5  0.5  0.5]\n",
      " [ 1.   0.5  0.5]\n",
      " [ 1.   0.5  1. ]\n",
      " [ 0.5  0.5  0.5]\n",
      " [ 1.   1.   1. ]]\n"
     ]
    }
   ],
   "source": [
    "#Alex Ly\n",
    "#100548033\n",
    "\n",
    "import numpy as np\n",
    "\n",
    "def WhiteWash(array,num):\n",
    "    newArray=np.ndarray(shape=array.shape,dtype=float) # new array with same shape as old array\n",
    "    for i in range(0,num):\n",
    "        for j in range (0,3):\n",
    "            newArray[i][j]=(array[i][j]+1)/2# average of value with 1 (white)\n",
    "    return newArray\n",
    "\n",
    "np.random.seed(100)\n",
    "num=np.random.randint(1,100)# random number of rows\n",
    "array=np.ndarray(shape=(num,3),dtype=int)\n",
    "for i in range (0,num):\n",
    "    for j in range (0,3):\n",
    "        array[i][j]=np.random.randint(0,2)# 0 or 1\n",
    "print(\"Original matrix\")\n",
    "print(array)        \n",
    "newArray=WhiteWash(array,num)\n",
    "print(\"New matrix\")\n",
    "print(newArray)"
   ]
  },
  {
   "cell_type": "code",
   "execution_count": null,
   "metadata": {
    "collapsed": true
   },
   "outputs": [],
   "source": []
  }
 ],
 "metadata": {
  "kernelspec": {
   "display_name": "Python 3",
   "language": "python",
   "name": "python3"
  },
  "language_info": {
   "codemirror_mode": {
    "name": "ipython",
    "version": 3
   },
   "file_extension": ".py",
   "mimetype": "text/x-python",
   "name": "python",
   "nbconvert_exporter": "python",
   "pygments_lexer": "ipython3",
   "version": "3.4.3"
  }
 },
 "nbformat": 4,
 "nbformat_minor": 0
}
