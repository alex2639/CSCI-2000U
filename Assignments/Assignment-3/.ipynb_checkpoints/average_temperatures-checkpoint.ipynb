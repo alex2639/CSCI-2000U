{
 "cells": [
  {
   "cell_type": "code",
   "execution_count": 33,
   "metadata": {
    "collapsed": false
   },
   "outputs": [],
   "source": [
    "import matplotlib.pyplot as plt\n",
    "\n",
    "plt.ylabel(\"Average Temperature (Celcius)\")\n",
    "plt.xlabel(\"Month\")\n",
    "\n",
    "#Each data file is read to get the temperatures which will be the y-values\n",
    "#Toronto\n",
    "file = open('toronto_temperature_2012.dat','r')\n",
    "y1=[0,0,0,0,0,0,0,0,0,0,0,0]\n",
    "x=0\n",
    "for line in file:\n",
    "    y1[x]=line\n",
    "    x=x+1\n",
    "#Montreal\n",
    "file=open('montreal_temperature_2012.dat','r')\n",
    "y2=[0,0,0,0,0,0,0,0,0,0,0,0]\n",
    "x=0\n",
    "for line in file:\n",
    "    y2[x]=line\n",
    "    x=x+1\n",
    "#Vancouver\n",
    "file=open('vancouver_temperature_2012.dat','r')\n",
    "y3=[0,0,0,0,0,0,0,0,0,0,0,0]\n",
    "x=0\n",
    "for line in file:\n",
    "    y3[x]=line\n",
    "    x=x+1\n",
    "\n",
    "x=[1,2,3,4,5,6,7,8,9,10,11,12]\n",
    "#Toronto\n",
    "plt.plot(x,y1,'b')\n",
    "\n",
    "#Vancouver\n",
    "plt.plot(x,y3,'r')\n",
    "\n",
    "#Montreal\n",
    "plt.plot(x,y2,'g')\n",
    "\n",
    "plt.axis([1,12,-10,25])\n",
    "\n",
    "#new x labels\n",
    "months=['Jan','Feb','Mar','Apr','May','Jun','Jul','Aug','Sep','Oct','Nov','Dec']          \n",
    "plt.xticks(x, months)\n",
    "\n",
    "#title\n",
    "plt.title('2012 average monthly temperatures (100548033)')\n",
    "\n",
    "#legend\n",
    "plt.text(6,5,'Legend')\n",
    "plt.text(6,3,'Toronto - blue')\n",
    "plt.text(6,1,'Vancouver - red')\n",
    "plt.text(6,-1,'Montreal - green')\n",
    "\n",
    "plt.show()"
   ]
  },
  {
   "cell_type": "code",
   "execution_count": null,
   "metadata": {
    "collapsed": true
   },
   "outputs": [],
   "source": []
  },
  {
   "cell_type": "code",
   "execution_count": null,
   "metadata": {
    "collapsed": true
   },
   "outputs": [],
   "source": []
  }
 ],
 "metadata": {
  "kernelspec": {
   "display_name": "Python 3",
   "language": "python",
   "name": "python3"
  },
  "language_info": {
   "codemirror_mode": {
    "name": "ipython",
    "version": 3
   },
   "file_extension": ".py",
   "mimetype": "text/x-python",
   "name": "python",
   "nbconvert_exporter": "python",
   "pygments_lexer": "ipython3",
   "version": "3.4.3"
  }
 },
 "nbformat": 4,
 "nbformat_minor": 0
}
