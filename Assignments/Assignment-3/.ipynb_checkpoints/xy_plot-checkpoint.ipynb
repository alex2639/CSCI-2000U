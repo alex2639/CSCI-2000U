{
 "cells": [
  {
   "cell_type": "code",
   "execution_count": 74,
   "metadata": {
    "collapsed": false
   },
   "outputs": [],
   "source": [
    "import numpy as np\n",
    "import matplotlib.pyplot as plt\n",
    "\n",
    "file=open('xy_points.dat','r')\n",
    "\n",
    "line=file.readline()\n",
    "x=line.split()\n",
    "x=np.array(x)\n",
    "\n",
    "line=file.readline()\n",
    "y=line.split()\n",
    "y=np.array(y)\n",
    "\n",
    "plt.plot(x,y,'ro')\n",
    "\n",
    "#blue region\n",
    "\n",
    "#plt.plot(x[float(x) < -2],y[float(y)>=-5 and float(y)<=0],'bo')\n",
    "\n",
    "x1=[]\n",
    "y1=[]\n",
    "for i in range(len(x)):\n",
    "    if float(x[i])<-2 and float(y[i])>=-5.0 and float(y[i])<=0.0:\n",
    "        x1.append(x[i])\n",
    "        y1.append(y[i])            \n",
    "plt.plot(x1,y1,'bo')\n",
    "\n",
    "#green region\n",
    "\n",
    "#r=[]\n",
    "#for i in range(len(x)):\n",
    "#    r.append((float(x[i])**2+(float(y[i])-5)**2)**(1/2))\n",
    "#plt.plot(x[r<5],y[r<5],'go')\n",
    "\n",
    "x2=[]\n",
    "y2=[]\n",
    "for i in range(len(x)):\n",
    "    if (float(x[i])**2+(float(y[i])-5)**2)<25:\n",
    "        x2.append(x[i])\n",
    "        y2.append(y[i])            \n",
    "plt.plot(x2,y2,'go')\n",
    "\n",
    "#title\n",
    "plt.title('Highlighted points (100548033)')\n",
    "\n",
    "plt.show()"
   ]
  },
  {
   "cell_type": "code",
   "execution_count": null,
   "metadata": {
    "collapsed": true
   },
   "outputs": [],
   "source": []
  },
  {
   "cell_type": "code",
   "execution_count": null,
   "metadata": {
    "collapsed": true
   },
   "outputs": [],
   "source": []
  },
  {
   "cell_type": "code",
   "execution_count": null,
   "metadata": {
    "collapsed": true
   },
   "outputs": [],
   "source": []
  },
  {
   "cell_type": "code",
   "execution_count": null,
   "metadata": {
    "collapsed": true
   },
   "outputs": [],
   "source": []
  }
 ],
 "metadata": {
  "kernelspec": {
   "display_name": "Python 3",
   "language": "python",
   "name": "python3"
  },
  "language_info": {
   "codemirror_mode": {
    "name": "ipython",
    "version": 3
   },
   "file_extension": ".py",
   "mimetype": "text/x-python",
   "name": "python",
   "nbconvert_exporter": "python",
   "pygments_lexer": "ipython3",
   "version": "3.4.3"
  }
 },
 "nbformat": 4,
 "nbformat_minor": 0
}
