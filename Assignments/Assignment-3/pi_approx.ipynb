{
 "cells": [
  {
   "cell_type": "code",
   "execution_count": 14,
   "metadata": {
    "collapsed": false
   },
   "outputs": [
    {
     "name": "stdout",
     "output_type": "stream",
     "text": [
      "n = \t 10, rho_n = 3.0418396189\n",
      "n = \t 10, tau_n = 3.049361636\n",
      "n = \t 10, mu_n = 3.1413846225\n",
      "n = \t 100, rho_n = 3.1315929036\n",
      "n = \t 100, tau_n = 3.1320765318\n",
      "n = \t 100, mu_n = 3.1415924153\n",
      "n = \t 1000, rho_n = 3.1405926538\n",
      "n = \t 1000, tau_n = 3.1406380562\n",
      "n = \t 1000, mu_n = 3.1415926533\n",
      "n = \t 10000, rho_n = 3.1414926536\n",
      "n = \t 10000, tau_n = 3.1414971639\n",
      "n = \t 10000, mu_n = 3.1415926536\n",
      "n = \t 100000, rho_n = 3.1415826536\n",
      "n = \t 100000, tau_n = 3.1415831043\n",
      "n = \t 100000, mu_n = 3.1415926536\n",
      "n = \t 1000000, rho_n = 3.1415916536\n",
      "n = \t 1000000, tau_n = 3.1415916987\n",
      "n = \t 1000000, mu_n = 3.1415926536\n"
     ]
    }
   ],
   "source": [
    "#Alex Ly\n",
    "#100548033\n",
    "#Question 1\n",
    "def rho (num=0):\n",
    "    n=0\n",
    "    for x in range(1,num+1):\n",
    "        n = n + ((-1)**(x+1) / (2*x-1))\n",
    "    return 4 * n\n",
    "def tau (num=0):\n",
    "    n=0\n",
    "    for x in range(1,num+1):\n",
    "        n = n + (1 / x**2)\n",
    "    return (6 * n)**0.5\n",
    "def mu (num=0):\n",
    "    n=0\n",
    "    for x in range(1,num+1):\n",
    "        n = n + (1 / x**4)\n",
    "    return (90 * n)**0.25\n",
    "num=10\n",
    "while num < 1000001:\n",
    "    print(\"n = \\t \" + str(num) + \", rho_n = \" + str(round(rho(num),10)))\n",
    "    print(\"n = \\t \" + str(num) + \", tau_n = \" + str(round(tau(num),10)))\n",
    "    print(\"n = \\t \" + str(num) + \", mu_n = \" + str(round(mu(num),10)))\n",
    "    num=num*10\n"
   ]
  },
  {
   "cell_type": "code",
   "execution_count": null,
   "metadata": {
    "collapsed": true
   },
   "outputs": [],
   "source": []
  }
 ],
 "metadata": {
  "kernelspec": {
   "display_name": "Python 3",
   "language": "python",
   "name": "python3"
  },
  "language_info": {
   "codemirror_mode": {
    "name": "ipython",
    "version": 3
   },
   "file_extension": ".py",
   "mimetype": "text/x-python",
   "name": "python",
   "nbconvert_exporter": "python",
   "pygments_lexer": "ipython3",
   "version": "3.4.3"
  }
 },
 "nbformat": 4,
 "nbformat_minor": 0
}
